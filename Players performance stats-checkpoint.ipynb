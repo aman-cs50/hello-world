{
 "cells": [
  {
   "cell_type": "code",
   "execution_count": 243,
   "metadata": {},
   "outputs": [],
   "source": [
    "def stats(p):\n",
    "    d = {}\n",
    "    for key,value in p.items():\n",
    "        if p['role'] == 'bat':\n",
    "            d['name'] = p['name']\n",
    "            d['batscore'] = 0\n",
    "            if p['runs'] in (50,100):\n",
    "                if (p['runs']/p['balls'] * 100 >= 80 and  p['runs']/p['balls'] * 100 < 100) :\n",
    "                    d['batscore'] = p['runs']/2 + 5 + 2 + p['4'] * 1 + p['6'] * 2\n",
    "                elif p['runs']/p['balls'] * 100 > 100:\n",
    "                    d['batscore'] = p['runs']/2 + 5 + 4 + p['4'] * 1 + p['6'] * 2\n",
    "                else:\n",
    "                    d['batscore'] = p['runs']/2 + 5 + p['4'] * 1 + p['6'] * 2\n",
    "                    \n",
    "            elif p['runs'] > 100:\n",
    "                if (p['runs']/p['balls'] * 100 >= 80 and  p['runs']/p['balls'] * 100 < 100) :\n",
    "                    d['batscore'] = p['runs']/2 + 15 + 2 + p['4'] * 1 + p['6'] * 2\n",
    "                elif p['runs']/p['balls'] * 100 > 100:\n",
    "                    d['batscore'] = p['runs']/2 + 15 + 4 + p['4'] * 1 + p['6'] * 2\n",
    "                else:\n",
    "                    d['batscore'] = p['runs']/2 + 15 + p['4'] * 1 + p['6'] * 2\n",
    "            else:\n",
    "                if (p['runs']/p['balls'] * 100 >= 80 and  p['runs']/p['balls'] * 100 < 100) :\n",
    "                    d['batscore'] = p['runs']/2 + 2 + p['4'] * 1 + p['6'] * 2\n",
    "                elif p['runs']/p['balls'] * 100 > 100:\n",
    "                    d['batscore'] = p['runs']/2 + 4 + p['4'] * 1 + p['6'] * 2\n",
    "                else:\n",
    "                    d['batscore'] = p['runs']/2 + p['4'] * 1 + p['6'] * 2\n",
    "            \n",
    "        else:\n",
    "            d['name'] = p['name']\n",
    "            d['bowlscore'] = 0\n",
    "            \n",
    "            if (p['wkts'] < 5 and p['wkts'] >= 3):\n",
    "                if p['runs']/p['overs'] >= 3.5 and p['runs']/p['overs']<= 4.5:\n",
    "                    d['bowlscore'] = p['wkts'] * 10 + 5 + 4\n",
    "                elif p['runs']/p['overs'] >= 2.0 and p['runs']/p['overs']< 3.5:\n",
    "                    d['bowlscore'] = p['wkts'] * 10 + 5 + 7\n",
    "                elif p['runs']/p['overs'] < 2:\n",
    "                    d['bowlscore'] = p['wkts'] * 10 + 5 + 10\n",
    "                else:\n",
    "                    d['bowlscore'] = p['wkts'] * 10 + 5\n",
    "            elif p['wkts'] > 5:\n",
    "                if p['runs']/p['overs'] >= 3.5 and p['runs']/p['overs']<= 4.5:\n",
    "                    d['bowlscore'] = p['wkts'] * 10 + 15 + 4\n",
    "                elif p['runs']/p['overs'] >= 2.0 and p['runs']/p['overs']< 3.5:\n",
    "                    d['bowlscore'] = p['wkts'] * 10 + 15 + 7\n",
    "                elif p['runs']/p['overs'] < 2.0:\n",
    "                    d['bowlscore'] = p['wkts'] * 10 + 15 + 10\n",
    "                else:\n",
    "                    d['bowlscore'] = p['wkts'] * 10 + 15\n",
    "            else:\n",
    "                if p['runs']/p['overs'] >= 3.5 and p['runs']/p['overs']<= 4.5:\n",
    "                    d['bowlscore'] = p['wkts'] * 10 + 4\n",
    "                elif p['runs']/p['overs'] >= 2.0 and p['runs']/p['overs']< 3.5:\n",
    "                    d['bowlscore'] = p['wkts'] * 10 + 7\n",
    "                elif p['runs']/p['overs'] < 2.0:\n",
    "                    d['bowlscore'] = p['wkts'] * 10 + 10\n",
    "                else:\n",
    "                    d['bowlscore'] = p['wkts'] * 10 \n",
    "        return d"
   ]
  },
  {
   "cell_type": "code",
   "execution_count": 244,
   "metadata": {},
   "outputs": [],
   "source": [
    "p1={'name':'Virat Kohli', 'role':'bat', 'runs':112, '4':10, '6':0,\n",
    "'balls':119, 'field':0}\n",
    "p2={'name':'du Plessis', 'role':'bat', 'runs':120, '4':11, '6':2,\n",
    "'balls':112, 'field':0}\n",
    "p3={'name':'Bhuvneshwar Kumar', 'role':'bowl', 'wkts':1, 'overs':10,\n",
    "'runs':71, 'field':1}\n",
    "p4={'name':'Yuzvendra Chahal', 'role':'bowl', 'wkts':2, 'overs':10,\n",
    "'runs':45, 'field':0}\n",
    "p5={'name':'Kuldeep Yadav', 'role':'bowl', 'wkts':3, 'overs':10, 'runs':34,\n",
    "'field':0}\n"
   ]
  },
  {
   "cell_type": "code",
   "execution_count": 245,
   "metadata": {},
   "outputs": [],
   "source": [
    "P = [p1,p2,p3,p4,p5]"
   ]
  },
  {
   "cell_type": "code",
   "execution_count": 246,
   "metadata": {},
   "outputs": [
    {
     "name": "stdout",
     "output_type": "stream",
     "text": [
      "{'name': 'Virat Kohli', 'batscore': 83.0}\n",
      "{'name': 'du Plessis', 'batscore': 94.0}\n",
      "{'name': 'Bhuvneshwar Kumar', 'bowlscore': 10}\n",
      "{'name': 'Yuzvendra Chahal', 'bowlscore': 24}\n",
      "{'name': 'Kuldeep Yadav', 'bowlscore': 42}\n"
     ]
    }
   ],
   "source": [
    "for i in range(5):\n",
    "    print(stats(P[i]))\n",
    "    i += 1\n"
   ]
  },
  {
   "cell_type": "code",
   "execution_count": null,
   "metadata": {},
   "outputs": [],
   "source": []
  }
 ],
 "metadata": {
  "kernelspec": {
   "display_name": "Python 3",
   "language": "python",
   "name": "python3"
  },
  "language_info": {
   "codemirror_mode": {
    "name": "ipython",
    "version": 3
   },
   "file_extension": ".py",
   "mimetype": "text/x-python",
   "name": "python",
   "nbconvert_exporter": "python",
   "pygments_lexer": "ipython3",
   "version": "3.7.4"
  }
 },
 "nbformat": 4,
 "nbformat_minor": 2
}
